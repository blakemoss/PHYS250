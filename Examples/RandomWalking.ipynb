{
 "cells": [
  {
   "cell_type": "markdown",
   "metadata": {},
   "source": [
    "# Random walkers \n",
    "\n",
    "### Introduction\n",
    "In this exercise, we're going to follow-up on the discussion in lecture with some actual computation regarding the random walking simulation. This is a simple version of a more general set of algorithms called a *Markov Chain Monte Carlo* or MCMC. These are extremely common in physics, chemistry, biology, economics, and industry generally.\n",
    "\n",
    "\n",
    "### Learning Goals\n",
    "You should learn a few things from this particular example, both technical and conceptual:\n",
    "\n",
    "1. How to build a randomized array, or field, of values using a loop\n",
    "1. Constructing a random path in two dimensions using those random steps\n",
    "1. Visualizing the path constructed\n",
    "1. Using built-in `numpy` library functions to build a randomize array of *steps*\n",
    "1. Understand a few more methods for array slicing and selection in `python`\n",
    "1. Using the cumulative summation function `cumsum` to turn the random steps into a randomized path\n",
    "1. Using the `%timeit` function to evaluate the time required to execute the two approaches"
   ]
  },
  {
   "cell_type": "markdown",
   "metadata": {},
   "source": [
    "### Code\n",
    "\n",
    "First, let's import the libraries as usual. We will the numerical functions as well as the plotting functions"
   ]
  },
  {
   "cell_type": "code",
   "execution_count": 2,
   "metadata": {},
   "outputs": [],
   "source": [
    "# Import the usual numpy and matplotlib libraries for numerical operations and plotting\n",
    "import numpy as np\n",
    "import matplotlib.pyplot as plt"
   ]
  },
  {
   "cell_type": "markdown",
   "metadata": {},
   "source": [
    "I always recommend setting important parameters, such as the number of steps to take in your simulation, separately. Remember to re-run this, and all subsequent related functions, if you want to change the number of steps."
   ]
  },
  {
   "cell_type": "code",
   "execution_count": 3,
   "metadata": {},
   "outputs": [],
   "source": [
    "# define the number of steps \n",
    "nsteps      = 100000         # \"Full\" simulation\n",
    "nsteps_test = 100            # \"Fast\" simulation"
   ]
  },
  {
   "cell_type": "markdown",
   "metadata": {},
   "source": [
    "I strongly recommend creating a function for the random walk. My recommendation is to include a `debug` option, which you can use to turn on or off various pieces of detailed information related to the calculations you're running. "
   ]
  },
  {
   "cell_type": "code",
   "execution_count": 4,
   "metadata": {},
   "outputs": [],
   "source": [
    "# Make a function that does all of this for us    \n",
    "def randomWalk(nsteps,debug=False):    \n",
    "    \n",
    "    #creating two array for containing x and y coordinate \n",
    "    #of size equals to the number of size and filled up with 0's \n",
    "    x = np.zeros(nsteps) \n",
    "    y = np.zeros(nsteps) \n",
    "    \n",
    "    # Fill the x and y coordinates with random variables \n",
    "    for i in range(1, nsteps): \n",
    "        val = np.random.randint(1, 5) \n",
    "        \n",
    "        # Always good to build into your code some debugging options\n",
    "        if (debug and i<100): print(\"Random number = \" + str(val))\n",
    "        \n",
    "        \n",
    "        if val == 1: \n",
    "            x[i] = x[i - 1] + 1\n",
    "            y[i] = y[i - 1] \n",
    "        elif val == 2: \n",
    "            x[i] = x[i - 1] - 1\n",
    "            y[i] = y[i - 1] \n",
    "        elif val == 3: \n",
    "            x[i] = x[i - 1] \n",
    "            y[i] = y[i - 1] + 1\n",
    "        else: \n",
    "            x[i] = x[i - 1] \n",
    "            y[i] = y[i - 1] - 1\n",
    "    \n",
    "    # Return the array of x and y values\n",
    "    return [x,y]\n",
    "    "
   ]
  },
  {
   "cell_type": "markdown",
   "metadata": {},
   "source": [
    "### Visualizing the random walk\n",
    "\n",
    "We want to take a look at this now, but perhaps just for a few steps (use the `nsteps_test` variable for this)"
   ]
  },
  {
   "cell_type": "code",
   "execution_count": 5,
   "metadata": {},
   "outputs": [
    {
     "name": "stdout",
     "output_type": "stream",
     "text": [
      "[array([ 0.,  0.,  0.,  0.,  0.,  0.,  0.,  1.,  1.,  1.,  2.,  2.,  2.,\n",
      "        3.,  3.,  4.,  4.,  5.,  5.,  5.,  6.,  6.,  7.,  7.,  6.,  6.,\n",
      "        6.,  5.,  5.,  6.,  7.,  7.,  6.,  6.,  6.,  6.,  6.,  5.,  5.,\n",
      "        5.,  4.,  4.,  4.,  4.,  3.,  3.,  3.,  2.,  1.,  0., -1.,  0.,\n",
      "       -1.,  0.,  0., -1., -1., -2., -2., -2., -2., -1., -2., -1.,  0.,\n",
      "        1.,  1.,  2.,  3.,  3.,  3.,  4.,  5.,  5.,  5.,  6.,  7.,  8.,\n",
      "        8.,  8.,  9., 10., 10., 10.,  9.,  9.,  9.,  8.,  8.,  8.,  9.,\n",
      "        9., 10.,  9.,  9.,  9., 10., 11., 11., 11.]), array([ 0., -1.,  0., -1., -2., -1.,  0.,  0.,  1.,  2.,  2.,  3.,  4.,\n",
      "        4.,  3.,  3.,  4.,  4.,  5.,  4.,  4.,  3.,  3.,  4.,  4.,  5.,\n",
      "        4.,  4.,  3.,  3.,  3.,  4.,  4.,  3.,  4.,  5.,  4.,  4.,  3.,\n",
      "        4.,  4.,  3.,  4.,  3.,  3.,  2.,  1.,  1.,  1.,  1.,  1.,  1.,\n",
      "        1.,  1.,  2.,  2.,  1.,  1.,  2.,  1.,  2.,  2.,  2.,  2.,  2.,\n",
      "        2.,  3.,  3.,  3.,  2.,  1.,  1.,  1.,  2.,  1.,  1.,  1.,  1.,\n",
      "        0.,  1.,  1.,  1.,  0.,  1.,  1.,  2.,  1.,  1.,  0., -1., -1.,\n",
      "       -2., -2., -2., -1., -2., -2., -2., -1., -2.])]\n"
     ]
    }
   ],
   "source": [
    "# We designed the function to return an array of `x` and `y` values.\n",
    "walk = randomWalk(nsteps_test)\n",
    "\n",
    "# Since we're only looking at a few steps, print out the actual values to make sure that they may sense\n",
    "print(walk)"
   ]
  },
  {
   "cell_type": "markdown",
   "metadata": {},
   "source": [
    "In order to use this array functionality efficiently, we're going to want to slice it up. That is, extract certain portions of it for further manipulation.\n",
    "\n",
    "To do this, we're going to use some basic operations. For example, the following operations select out rows of values which could represent three `x` values and then 3 `y` values:\n",
    "\n",
    "~~~~\n",
    ">>> a = np.array([[1,2,3], [4,5,6]])\n",
    ">>> a\n",
    "array([[1, 2, 3],\n",
    "       [4, 5, 6],\n",
    "       [7, 8, 9]])\n",
    ">>> a[0]\n",
    "array([1, 2, 3])\n",
    ">>> a[1]\n",
    "array([4, 5, 6])\n",
    "~~~~\n",
    "\n",
    "With this in mind, we can easily provide the `x` and `y` coordinates to the `matplotlib` `plot` function for plotting:"
   ]
  },
  {
   "cell_type": "code",
   "execution_count": 16,
   "metadata": {},
   "outputs": [
    {
     "data": {
      "image/png": "[encoded data removed]",
      "text/plain": [
       "<Figure size 432x288 with 1 Axes>"
      ]
     },
     "metadata": {},
     "output_type": "display_data"
    }
   ],
   "source": [
    "# The selection of ranges within a 2D array can be done using \n",
    "plt.plot(walk[0],walk[1],label= 'Random walk')\n",
    "plt.title(\"Random Walk ($n = \" + str(nsteps_test) + \"$ steps)\") \n",
    "plt.axis([-20,20,-20,20])\n",
    "plt.show()"
   ]
  },
  {
   "cell_type": "markdown",
   "metadata": {},
   "source": [
    "Now let's go for a longer walk, but let `matplotlib` figure out the axis ranges."
   ]
  },
  {
   "cell_type": "code",
   "execution_count": 6,
   "metadata": {},
   "outputs": [
    {
     "data": {
      "image/png": "[encoded data removed]",
      "text/plain": [
       "<matplotlib.figure.Figure at 0x178e69ab6a0>"
      ]
     },
     "metadata": {},
     "output_type": "display_data"
    }
   ],
   "source": [
    "walk = randomWalk(nsteps)\n",
    "plt.plot(walk[0],walk[1],label= 'Random walk')\n",
    "plt.title(\"Random Walk ($n = \" + str(nsteps) + \"$ steps)\") \n",
    "plt.show()"
   ]
  },
  {
   "cell_type": "markdown",
   "metadata": {},
   "source": [
    "### Alternative algorithm definition using `numpy` magic\n",
    "\n",
    "You may not know it yet, but the above code is not very efficient, despite being exceptionally readable.\n",
    "\n",
    "Let's look at using some built-in `numpy` libraries for speeding this up, and then we'll check below by how much that might have helped"
   ]
  },
  {
   "cell_type": "code",
   "execution_count": 20,
   "metadata": {},
   "outputs": [
    {
     "name": "stdout",
     "output_type": "stream",
     "text": [
      "[array([1, 2, 1, 0, 1, 0, 1, 2, 1, 2], dtype=int32), array([-1,  0, -1, -2, -1,  0,  1,  0,  1,  0], dtype=int32)]\n"
     ]
    }
   ],
   "source": [
    "def efficientWalk(nsteps,debug=False):    \n",
    "    \n",
    "    # Initialize an array with `nsteps` random integers -1 or 1\n",
    "    #   -> begin with an array of length N with random integers between 0 (inclusive) and 2 (exclusive)\n",
    "    #   -> multiply by two and subtract 1  changes the random integers 0 and 1 to -1 and 1 respectively\n",
    "    randomized_steps = np.random.randint(0,2,(nsteps,2)) * 2 - 1  \n",
    "    \n",
    "    # Sum up the randomized steps in both x and y separately\n",
    "    walk = np.cumsum(randomized_steps, axis=0)\n",
    "    \n",
    "    x = walk[:,0]  # slicing to extract the 0 column on the first axis\n",
    "    y = walk[:,1]  # slicing to extract the 1 column on the first axis\n",
    "    \n",
    "    # Return the array of values\n",
    "    return [x,y]\n",
    "\n",
    "y = efficientWalk(10)\n",
    "print(y)\n"
   ]
  },
  {
   "cell_type": "markdown",
   "metadata": {},
   "source": [
    "### Profiling \n",
    "\n",
    "Let’s use the profiling tool `%timeit` to look at a some examples of the speedup possible when using `python` and `numpy` more efficiently.\n",
    "\n",
    "To quote the [blog from the Kinder & Nelson textbook](http://physicalmodelingwithpython.blogspot.com/2015/09/speeding-up-python-part-1-profiling.html),\n",
    "\n",
    "\n",
    "> Before proceeding, I offer this advice: If your program already runs fast enough, \n",
    "> do not bother with profiling and optimization. There are an endless number of \n",
    "> interesting problems waiting to be solved, and the question of how to improve \n",
    "> the performance of a particular program by 20 percent is probably not one of them.\n",
    "\n",
    "\n",
    "#### The `%timeit` Command\n",
    "\n",
    "Try the same operations as before, but use the %timeit command instead of %time:\n",
    "\n",
    "~~~~\n",
    "%timeit 2**100\n",
    "%timeit pow(2,100)\n",
    "~~~~\n",
    "\n",
    "The output should be something like this:\n",
    "\n",
    "~~~~\n",
    "$ %timeit 2**100\n",
    "10000000 loops, best of 3: 45.4 ns per loop\n",
    "~~~~\n",
    "\n",
    "This means that Python inserted the command `2**100` inside a loop and carried out the operation ten million times. It evaluated 3 such loops. It recorded the total time for each loop, and then divided by 10 million. The best result from the 3 loops was an average execution time of 45.4 ns. "
   ]
  },
  {
   "cell_type": "code",
   "execution_count": 20,
   "metadata": {},
   "outputs": [
    {
     "name": "stdout",
     "output_type": "stream",
     "text": [
      "249 ms ± 49.9 ms per loop (mean ± std. dev. of 7 runs, 1 loop each)\n"
     ]
    }
   ],
   "source": [
    "%%timeit \n",
    "#debug=True    \n",
    "walk = randomWalk(nsteps)\n",
    "#print(walk)\n",
    "#plt.plot(walk[0],walk[1],label= 'Random walk')\n",
    "#plt.title(\"Random Walk ($n = \" + str(nsteps) + \"$ steps)\") \n",
    "#plt.axis([-10,10,-10,10])\n",
    "#plt.show()"
   ]
  },
  {
   "cell_type": "code",
   "execution_count": 21,
   "metadata": {},
   "outputs": [
    {
     "name": "stdout",
     "output_type": "stream",
     "text": [
      "1.47 ms ± 60.8 µs per loop (mean ± std. dev. of 7 runs, 1000 loops each)\n"
     ]
    }
   ],
   "source": [
    "%%timeit\n",
    "\n",
    "walk2 = efficientWalk(nsteps)\n",
    "#print(walk)\n",
    "#plt.plot(walk2[0],walk2[1],label = 'Efficient random walk')\n",
    "#plt.title(\"Efficient random walk ($n = \" + str(nsteps) + \"$ steps)\") \n",
    "#plt.axis([-10,10,-10,10])\n",
    "#plt.show()"
   ]
  },
  {
   "cell_type": "code",
   "execution_count": null,
   "metadata": {
    "collapsed": true
   },
   "outputs": [],
   "source": []
  }
 ],
 "metadata": {
  "kernelspec": {
   "display_name": "Python 3",
   "language": "python",
   "name": "python3"
  },
  "language_info": {
   "codemirror_mode": {
    "name": "ipython",
    "version": 3
   },
   "file_extension": ".py",
   "mimetype": "text/x-python",
   "name": "python",
   "nbconvert_exporter": "python",
   "pygments_lexer": "ipython3",
   "version": "3.6.4"
  }
 },
 "nbformat": 4,
 "nbformat_minor": 2
}
